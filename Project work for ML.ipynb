{
 "cells": [
  {
   "cell_type": "markdown",
   "id": "c8c3b6c3",
   "metadata": {},
   "source": [
    "### Importing Required Libraries"
   ]
  },
  {
   "cell_type": "code",
   "execution_count": 30,
   "id": "a211503a",
   "metadata": {},
   "outputs": [
    {
     "name": "stdout",
     "output_type": "stream",
     "text": [
      "Collecting imblearn\n",
      "  Downloading imblearn-0.0-py2.py3-none-any.whl (1.9 kB)\n",
      "Collecting imbalanced-learn\n",
      "  Downloading imbalanced_learn-0.8.1-py3-none-any.whl (189 kB)"
     ]
    },
    {
     "name": "stderr",
     "output_type": "stream",
     "text": [
      "WARNING: Ignoring invalid distribution -f-nightly-gpu (c:\\users\\karth\\anaconda3\\lib\\site-packages)\n",
      "WARNING: Ignoring invalid distribution -f-nightly-gpu (c:\\users\\karth\\anaconda3\\lib\\site-packages)\n",
      "WARNING: Ignoring invalid distribution -f-nightly-gpu (c:\\users\\karth\\anaconda3\\lib\\site-packages)\n",
      "WARNING: Ignoring invalid distribution -f-nightly-gpu (c:\\users\\karth\\anaconda3\\lib\\site-packages)\n",
      "WARNING: Ignoring invalid distribution -f-nightly-gpu (c:\\users\\karth\\anaconda3\\lib\\site-packages)\n",
      "WARNING: Ignoring invalid distribution -f-nightly-gpu (c:\\users\\karth\\anaconda3\\lib\\site-packages)\n",
      "WARNING: Ignoring invalid distribution -f-nightly-gpu (c:\\users\\karth\\anaconda3\\lib\\site-packages)"
     ]
    },
    {
     "name": "stdout",
     "output_type": "stream",
     "text": [
      "\n",
      "Requirement already satisfied: scipy>=0.19.1 in c:\\users\\karth\\anaconda3\\lib\\site-packages (from imbalanced-learn->imblearn) (1.6.2)\n",
      "Requirement already satisfied: scikit-learn>=0.24 in c:\\users\\karth\\anaconda3\\lib\\site-packages (from imbalanced-learn->imblearn) (0.24.2)\n",
      "Requirement already satisfied: joblib>=0.11 in c:\\users\\karth\\anaconda3\\lib\\site-packages (from imbalanced-learn->imblearn) (1.0.1)\n",
      "Requirement already satisfied: numpy>=1.13.3 in c:\\users\\karth\\anaconda3\\lib\\site-packages (from imbalanced-learn->imblearn) (1.20.3)\n",
      "Requirement already satisfied: threadpoolctl>=2.0.0 in c:\\users\\karth\\anaconda3\\lib\\site-packages (from scikit-learn>=0.24->imbalanced-learn->imblearn) (2.2.0)\n",
      "Installing collected packages: imbalanced-learn, imblearn\n",
      "Successfully installed imbalanced-learn-0.8.1 imblearn-0.0\n"
     ]
    },
    {
     "name": "stderr",
     "output_type": "stream",
     "text": [
      "\n",
      "WARNING: Ignoring invalid distribution -f-nightly-gpu (c:\\users\\karth\\anaconda3\\lib\\site-packages)\n"
     ]
    }
   ],
   "source": [
    "!pip install imblearn"
   ]
  },
  {
   "cell_type": "code",
   "execution_count": 1,
   "id": "7b170879",
   "metadata": {},
   "outputs": [],
   "source": [
    "import pandas as pd \n",
    "import numpy as np \n",
    "import matplotlib.pyplot as plt\n",
    "import seaborn as sns\n",
    "from sklearn.model_selection import train_test_split\n",
    "from sklearn.metrics import accuracy_score,classification_report\n",
    "from sklearn.linear_model import LogisticRegression\n",
    "from sklearn.ensemble import RandomForestClassifier #Bagging \n",
    "from sklearn.ensemble import GradientBoostingClassifier #Boosting\n",
    "\n",
    "#SMOTE \n",
    "from imblearn.over_sampling import SMOTE #OverSampling\n",
    "\n",
    "#Near Miss\n",
    "from imblearn.under_sampling import NearMiss #UnderSampling\n",
    "\n",
    "#GridSearchCV\n",
    "from sklearn.model_selection import GridSearchCV"
   ]
  },
  {
   "cell_type": "markdown",
   "id": "acf44b41",
   "metadata": {},
   "source": [
    "### Loading the Dataset"
   ]
  },
  {
   "cell_type": "code",
   "execution_count": 2,
   "id": "46e76046",
   "metadata": {},
   "outputs": [],
   "source": [
    "df = pd.read_csv('aug_train.csv')"
   ]
  },
  {
   "cell_type": "code",
   "execution_count": 3,
   "id": "dc9be451",
   "metadata": {},
   "outputs": [
    {
     "data": {
      "text/html": [
       "<div>\n",
       "<style scoped>\n",
       "    .dataframe tbody tr th:only-of-type {\n",
       "        vertical-align: middle;\n",
       "    }\n",
       "\n",
       "    .dataframe tbody tr th {\n",
       "        vertical-align: top;\n",
       "    }\n",
       "\n",
       "    .dataframe thead th {\n",
       "        text-align: right;\n",
       "    }\n",
       "</style>\n",
       "<table border=\"1\" class=\"dataframe\">\n",
       "  <thead>\n",
       "    <tr style=\"text-align: right;\">\n",
       "      <th></th>\n",
       "      <th>id</th>\n",
       "      <th>Gender</th>\n",
       "      <th>Age</th>\n",
       "      <th>Driving_License</th>\n",
       "      <th>Region_Code</th>\n",
       "      <th>Previously_Insured</th>\n",
       "      <th>Vehicle_Age</th>\n",
       "      <th>Vehicle_Damage</th>\n",
       "      <th>Annual_Premium</th>\n",
       "      <th>Policy_Sales_Channel</th>\n",
       "      <th>Vintage</th>\n",
       "      <th>Response</th>\n",
       "    </tr>\n",
       "  </thead>\n",
       "  <tbody>\n",
       "    <tr>\n",
       "      <th>0</th>\n",
       "      <td>167647</td>\n",
       "      <td>Male</td>\n",
       "      <td>22</td>\n",
       "      <td>1</td>\n",
       "      <td>7</td>\n",
       "      <td>1</td>\n",
       "      <td>&lt; 1 Year</td>\n",
       "      <td>No</td>\n",
       "      <td>2630</td>\n",
       "      <td>152</td>\n",
       "      <td>16</td>\n",
       "      <td>0</td>\n",
       "    </tr>\n",
       "    <tr>\n",
       "      <th>1</th>\n",
       "      <td>17163</td>\n",
       "      <td>Male</td>\n",
       "      <td>42</td>\n",
       "      <td>1</td>\n",
       "      <td>28</td>\n",
       "      <td>0</td>\n",
       "      <td>1-2 Year</td>\n",
       "      <td>Yes</td>\n",
       "      <td>43327</td>\n",
       "      <td>26</td>\n",
       "      <td>135</td>\n",
       "      <td>0</td>\n",
       "    </tr>\n",
       "    <tr>\n",
       "      <th>2</th>\n",
       "      <td>32023</td>\n",
       "      <td>Female</td>\n",
       "      <td>66</td>\n",
       "      <td>1</td>\n",
       "      <td>33</td>\n",
       "      <td>0</td>\n",
       "      <td>1-2 Year</td>\n",
       "      <td>Yes</td>\n",
       "      <td>35841</td>\n",
       "      <td>124</td>\n",
       "      <td>253</td>\n",
       "      <td>0</td>\n",
       "    </tr>\n",
       "    <tr>\n",
       "      <th>3</th>\n",
       "      <td>87447</td>\n",
       "      <td>Female</td>\n",
       "      <td>22</td>\n",
       "      <td>1</td>\n",
       "      <td>33</td>\n",
       "      <td>0</td>\n",
       "      <td>&lt; 1 Year</td>\n",
       "      <td>No</td>\n",
       "      <td>27645</td>\n",
       "      <td>152</td>\n",
       "      <td>69</td>\n",
       "      <td>0</td>\n",
       "    </tr>\n",
       "    <tr>\n",
       "      <th>4</th>\n",
       "      <td>501933</td>\n",
       "      <td>Male</td>\n",
       "      <td>28</td>\n",
       "      <td>1</td>\n",
       "      <td>46</td>\n",
       "      <td>1</td>\n",
       "      <td>&lt; 1 Year</td>\n",
       "      <td>No</td>\n",
       "      <td>29023</td>\n",
       "      <td>152</td>\n",
       "      <td>211</td>\n",
       "      <td>0</td>\n",
       "    </tr>\n",
       "  </tbody>\n",
       "</table>\n",
       "</div>"
      ],
      "text/plain": [
       "       id  Gender  Age  Driving_License  Region_Code  Previously_Insured  \\\n",
       "0  167647    Male   22                1            7                   1   \n",
       "1   17163    Male   42                1           28                   0   \n",
       "2   32023  Female   66                1           33                   0   \n",
       "3   87447  Female   22                1           33                   0   \n",
       "4  501933    Male   28                1           46                   1   \n",
       "\n",
       "  Vehicle_Age Vehicle_Damage  Annual_Premium  Policy_Sales_Channel  Vintage  \\\n",
       "0    < 1 Year             No            2630                   152       16   \n",
       "1    1-2 Year            Yes           43327                    26      135   \n",
       "2    1-2 Year            Yes           35841                   124      253   \n",
       "3    < 1 Year             No           27645                   152       69   \n",
       "4    < 1 Year             No           29023                   152      211   \n",
       "\n",
       "   Response  \n",
       "0         0  \n",
       "1         0  \n",
       "2         0  \n",
       "3         0  \n",
       "4         0  "
      ]
     },
     "execution_count": 3,
     "metadata": {},
     "output_type": "execute_result"
    }
   ],
   "source": [
    "df.head()"
   ]
  },
  {
   "cell_type": "markdown",
   "id": "29f1f206",
   "metadata": {},
   "source": [
    "displaying top 5 rows"
   ]
  },
  {
   "cell_type": "markdown",
   "id": "440c3509",
   "metadata": {},
   "source": [
    "### Exploratory Data Analysis"
   ]
  },
  {
   "cell_type": "code",
   "execution_count": 13,
   "id": "346df3c0",
   "metadata": {},
   "outputs": [
    {
     "data": {
      "text/plain": [
       "(382154, 12)"
      ]
     },
     "execution_count": 13,
     "metadata": {},
     "output_type": "execute_result"
    }
   ],
   "source": [
    "df.shape"
   ]
  },
  {
   "cell_type": "markdown",
   "id": "26ce1687",
   "metadata": {},
   "source": [
    "We can observe that there are 382154 rows and 12 columns"
   ]
  },
  {
   "cell_type": "code",
   "execution_count": 6,
   "id": "8961213c",
   "metadata": {},
   "outputs": [
    {
     "name": "stdout",
     "output_type": "stream",
     "text": [
      "<class 'pandas.core.frame.DataFrame'>\n",
      "RangeIndex: 382154 entries, 0 to 382153\n",
      "Data columns (total 12 columns):\n",
      " #   Column                Non-Null Count   Dtype \n",
      "---  ------                --------------   ----- \n",
      " 0   id                    382154 non-null  int64 \n",
      " 1   Gender                382154 non-null  object\n",
      " 2   Age                   382154 non-null  int64 \n",
      " 3   Driving_License       382154 non-null  int64 \n",
      " 4   Region_Code           382154 non-null  int64 \n",
      " 5   Previously_Insured    382154 non-null  int64 \n",
      " 6   Vehicle_Age           382154 non-null  object\n",
      " 7   Vehicle_Damage        382154 non-null  object\n",
      " 8   Annual_Premium        382154 non-null  int64 \n",
      " 9   Policy_Sales_Channel  382154 non-null  int64 \n",
      " 10  Vintage               382154 non-null  int64 \n",
      " 11  Response              382154 non-null  int64 \n",
      "dtypes: int64(9), object(3)\n",
      "memory usage: 35.0+ MB\n"
     ]
    }
   ],
   "source": [
    "df.info()"
   ]
  },
  {
   "cell_type": "markdown",
   "id": "6aa227ee",
   "metadata": {},
   "source": [
    "displaying information of dataset.\n",
    "\n",
    "**We can observe that there are 3 Categorical Features and 9 Numerical Feature in our dataset.**"
   ]
  },
  {
   "cell_type": "code",
   "execution_count": 8,
   "id": "7e5baf24",
   "metadata": {},
   "outputs": [
    {
     "data": {
      "text/plain": [
       "Index(['id', 'Gender', 'Age', 'Driving_License', 'Region_Code',\n",
       "       'Previously_Insured', 'Vehicle_Age', 'Vehicle_Damage', 'Annual_Premium',\n",
       "       'Policy_Sales_Channel', 'Vintage', 'Response'],\n",
       "      dtype='object')"
      ]
     },
     "execution_count": 8,
     "metadata": {},
     "output_type": "execute_result"
    }
   ],
   "source": [
    "df.columns"
   ]
  },
  {
   "cell_type": "markdown",
   "id": "33735e3c",
   "metadata": {},
   "source": [
    "These are the 12 columns."
   ]
  },
  {
   "cell_type": "code",
   "execution_count": 9,
   "id": "4f41d1ac",
   "metadata": {},
   "outputs": [
    {
     "data": {
      "text/html": [
       "<div>\n",
       "<style scoped>\n",
       "    .dataframe tbody tr th:only-of-type {\n",
       "        vertical-align: middle;\n",
       "    }\n",
       "\n",
       "    .dataframe tbody tr th {\n",
       "        vertical-align: top;\n",
       "    }\n",
       "\n",
       "    .dataframe thead th {\n",
       "        text-align: right;\n",
       "    }\n",
       "</style>\n",
       "<table border=\"1\" class=\"dataframe\">\n",
       "  <thead>\n",
       "    <tr style=\"text-align: right;\">\n",
       "      <th></th>\n",
       "      <th>id</th>\n",
       "      <th>Age</th>\n",
       "      <th>Driving_License</th>\n",
       "      <th>Region_Code</th>\n",
       "      <th>Previously_Insured</th>\n",
       "      <th>Annual_Premium</th>\n",
       "      <th>Policy_Sales_Channel</th>\n",
       "      <th>Vintage</th>\n",
       "      <th>Response</th>\n",
       "    </tr>\n",
       "  </thead>\n",
       "  <tbody>\n",
       "    <tr>\n",
       "      <th>count</th>\n",
       "      <td>382154.000000</td>\n",
       "      <td>382154.000000</td>\n",
       "      <td>382154.000000</td>\n",
       "      <td>382154.000000</td>\n",
       "      <td>382154.000000</td>\n",
       "      <td>382154.000000</td>\n",
       "      <td>382154.000000</td>\n",
       "      <td>382154.000000</td>\n",
       "      <td>382154.000000</td>\n",
       "    </tr>\n",
       "    <tr>\n",
       "      <th>mean</th>\n",
       "      <td>234392.953477</td>\n",
       "      <td>38.545691</td>\n",
       "      <td>0.998108</td>\n",
       "      <td>26.406867</td>\n",
       "      <td>0.489182</td>\n",
       "      <td>30711.271362</td>\n",
       "      <td>111.939812</td>\n",
       "      <td>154.189429</td>\n",
       "      <td>0.163811</td>\n",
       "    </tr>\n",
       "    <tr>\n",
       "      <th>std</th>\n",
       "      <td>139527.487326</td>\n",
       "      <td>15.226897</td>\n",
       "      <td>0.043455</td>\n",
       "      <td>13.181241</td>\n",
       "      <td>0.499884</td>\n",
       "      <td>17061.595532</td>\n",
       "      <td>54.286511</td>\n",
       "      <td>83.735107</td>\n",
       "      <td>0.370104</td>\n",
       "    </tr>\n",
       "    <tr>\n",
       "      <th>min</th>\n",
       "      <td>1.000000</td>\n",
       "      <td>20.000000</td>\n",
       "      <td>0.000000</td>\n",
       "      <td>0.000000</td>\n",
       "      <td>0.000000</td>\n",
       "      <td>2630.000000</td>\n",
       "      <td>1.000000</td>\n",
       "      <td>10.000000</td>\n",
       "      <td>0.000000</td>\n",
       "    </tr>\n",
       "    <tr>\n",
       "      <th>25%</th>\n",
       "      <td>115006.250000</td>\n",
       "      <td>25.000000</td>\n",
       "      <td>1.000000</td>\n",
       "      <td>15.000000</td>\n",
       "      <td>0.000000</td>\n",
       "      <td>24546.000000</td>\n",
       "      <td>26.000000</td>\n",
       "      <td>81.000000</td>\n",
       "      <td>0.000000</td>\n",
       "    </tr>\n",
       "    <tr>\n",
       "      <th>50%</th>\n",
       "      <td>230461.500000</td>\n",
       "      <td>36.000000</td>\n",
       "      <td>1.000000</td>\n",
       "      <td>28.000000</td>\n",
       "      <td>0.000000</td>\n",
       "      <td>31692.000000</td>\n",
       "      <td>145.000000</td>\n",
       "      <td>154.000000</td>\n",
       "      <td>0.000000</td>\n",
       "    </tr>\n",
       "    <tr>\n",
       "      <th>75%</th>\n",
       "      <td>345434.750000</td>\n",
       "      <td>49.000000</td>\n",
       "      <td>1.000000</td>\n",
       "      <td>35.000000</td>\n",
       "      <td>1.000000</td>\n",
       "      <td>39447.750000</td>\n",
       "      <td>152.000000</td>\n",
       "      <td>227.000000</td>\n",
       "      <td>0.000000</td>\n",
       "    </tr>\n",
       "    <tr>\n",
       "      <th>max</th>\n",
       "      <td>508145.000000</td>\n",
       "      <td>85.000000</td>\n",
       "      <td>1.000000</td>\n",
       "      <td>52.000000</td>\n",
       "      <td>1.000000</td>\n",
       "      <td>540165.000000</td>\n",
       "      <td>163.000000</td>\n",
       "      <td>299.000000</td>\n",
       "      <td>1.000000</td>\n",
       "    </tr>\n",
       "  </tbody>\n",
       "</table>\n",
       "</div>"
      ],
      "text/plain": [
       "                  id            Age  Driving_License    Region_Code  \\\n",
       "count  382154.000000  382154.000000    382154.000000  382154.000000   \n",
       "mean   234392.953477      38.545691         0.998108      26.406867   \n",
       "std    139527.487326      15.226897         0.043455      13.181241   \n",
       "min         1.000000      20.000000         0.000000       0.000000   \n",
       "25%    115006.250000      25.000000         1.000000      15.000000   \n",
       "50%    230461.500000      36.000000         1.000000      28.000000   \n",
       "75%    345434.750000      49.000000         1.000000      35.000000   \n",
       "max    508145.000000      85.000000         1.000000      52.000000   \n",
       "\n",
       "       Previously_Insured  Annual_Premium  Policy_Sales_Channel  \\\n",
       "count       382154.000000   382154.000000         382154.000000   \n",
       "mean             0.489182    30711.271362            111.939812   \n",
       "std              0.499884    17061.595532             54.286511   \n",
       "min              0.000000     2630.000000              1.000000   \n",
       "25%              0.000000    24546.000000             26.000000   \n",
       "50%              0.000000    31692.000000            145.000000   \n",
       "75%              1.000000    39447.750000            152.000000   \n",
       "max              1.000000   540165.000000            163.000000   \n",
       "\n",
       "             Vintage       Response  \n",
       "count  382154.000000  382154.000000  \n",
       "mean      154.189429       0.163811  \n",
       "std        83.735107       0.370104  \n",
       "min        10.000000       0.000000  \n",
       "25%        81.000000       0.000000  \n",
       "50%       154.000000       0.000000  \n",
       "75%       227.000000       0.000000  \n",
       "max       299.000000       1.000000  "
      ]
     },
     "execution_count": 9,
     "metadata": {},
     "output_type": "execute_result"
    }
   ],
   "source": [
    "df.describe()"
   ]
  },
  {
   "cell_type": "markdown",
   "id": "891b0523",
   "metadata": {},
   "source": [
    "Here we can observe that data is not standarized. because each column has different mean and different standard deviation."
   ]
  },
  {
   "cell_type": "markdown",
   "id": "f9cd4768",
   "metadata": {},
   "source": [
    "### Checking for the Missing Values"
   ]
  },
  {
   "cell_type": "code",
   "execution_count": 16,
   "id": "f8d5161a",
   "metadata": {},
   "outputs": [
    {
     "data": {
      "text/plain": [
       "id                      0\n",
       "Gender                  0\n",
       "Age                     0\n",
       "Driving_License         0\n",
       "Region_Code             0\n",
       "Previously_Insured      0\n",
       "Vehicle_Age             0\n",
       "Vehicle_Damage          0\n",
       "Annual_Premium          0\n",
       "Policy_Sales_Channel    0\n",
       "Vintage                 0\n",
       "Response                0\n",
       "dtype: int64"
      ]
     },
     "execution_count": 16,
     "metadata": {},
     "output_type": "execute_result"
    }
   ],
   "source": [
    "df.isna().sum()"
   ]
  },
  {
   "cell_type": "markdown",
   "id": "a951d692",
   "metadata": {},
   "source": [
    "We can observe that there are no missing values."
   ]
  },
  {
   "cell_type": "markdown",
   "id": "b648bb89",
   "metadata": {},
   "source": [
    "### Histogram for Age column"
   ]
  },
  {
   "cell_type": "code",
   "execution_count": 24,
   "id": "bd7751c6",
   "metadata": {},
   "outputs": [
    {
     "data": {
      "image/png": "[encoded data removed]",
      "text/plain": [
       "<Figure size 432x360 with 1 Axes>"
      ]
     },
     "metadata": {
      "needs_background": "light"
     },
     "output_type": "display_data"
    }
   ],
   "source": [
    "plt.figure(figsize=(6,5))\n",
    "plt.hist(df.Age)\n",
    "plt.xlabel(\"Age\")\n",
    "plt.ylabel(\"Frequencies\")\n",
    "plt.show()"
   ]
  },
  {
   "cell_type": "markdown",
   "id": "f5b51b7f",
   "metadata": {},
   "source": [
    "### Distribution of Age column"
   ]
  },
  {
   "cell_type": "code",
   "execution_count": 26,
   "id": "f169a9a6",
   "metadata": {},
   "outputs": [
    {
     "data": {
      "image/png": "[encoded data removed]",
      "text/plain": [
       "<Figure size 432x360 with 1 Axes>"
      ]
     },
     "metadata": {
      "needs_background": "light"
     },
     "output_type": "display_data"
    }
   ],
   "source": [
    "plt.figure(figsize=(6,5))\n",
    "sns.histplot(df.Age,kde=True)\n",
    "plt.xlabel(\"Age\")\n",
    "plt.ylabel(\"Frequencies\")\n",
    "plt.show()"
   ]
  },
  {
   "cell_type": "markdown",
   "id": "5301ba34",
   "metadata": {},
   "source": [
    "We can observe that distribution is bimodal. that means there are high range of people at age of 20-30 and 40-60 in our dataset."
   ]
  },
  {
   "cell_type": "markdown",
   "id": "c07d7a36",
   "metadata": {},
   "source": [
    "### Bar Chart of Gender"
   ]
  },
  {
   "cell_type": "code",
   "execution_count": 5,
   "id": "07fe625b",
   "metadata": {},
   "outputs": [
    {
     "name": "stderr",
     "output_type": "stream",
     "text": [
      "C:\\Users\\karth\\anaconda3\\lib\\site-packages\\seaborn\\_decorators.py:36: FutureWarning: Pass the following variable as a keyword arg: x. From version 0.12, the only valid positional argument will be `data`, and passing other arguments without an explicit keyword will result in an error or misinterpretation.\n",
      "  warnings.warn(\n"
     ]
    },
    {
     "data": {
      "image/png": "[encoded data removed]",
      "text/plain": [
       "<Figure size 432x360 with 1 Axes>"
      ]
     },
     "metadata": {
      "needs_background": "light"
     },
     "output_type": "display_data"
    }
   ],
   "source": [
    "plt.figure(figsize=(6,5))\n",
    "sns.countplot(df.Gender)\n",
    "plt.xlabel(\"Gender\")\n",
    "plt.ylabel(\"Frequencies\")\n",
    "plt.show()"
   ]
  },
  {
   "cell_type": "code",
   "execution_count": 30,
   "id": "8e4d2ada",
   "metadata": {},
   "outputs": [
    {
     "data": {
      "text/plain": [
       "Male      205603\n",
       "Female    176551\n",
       "Name: Gender, dtype: int64"
      ]
     },
     "execution_count": 30,
     "metadata": {},
     "output_type": "execute_result"
    }
   ],
   "source": [
    "df.Gender.value_counts()"
   ]
  },
  {
   "cell_type": "markdown",
   "id": "5063b29e",
   "metadata": {},
   "source": [
    "We can observe that there are 205603 Male and 176551 Female."
   ]
  },
  {
   "cell_type": "markdown",
   "id": "3acdfc14",
   "metadata": {},
   "source": [
    "### Bar Chart of Driving License"
   ]
  },
  {
   "cell_type": "code",
   "execution_count": 6,
   "id": "83e3270d",
   "metadata": {},
   "outputs": [
    {
     "name": "stderr",
     "output_type": "stream",
     "text": [
      "C:\\Users\\karth\\anaconda3\\lib\\site-packages\\seaborn\\_decorators.py:36: FutureWarning: Pass the following variable as a keyword arg: x. From version 0.12, the only valid positional argument will be `data`, and passing other arguments without an explicit keyword will result in an error or misinterpretation.\n",
      "  warnings.warn(\n"
     ]
    },
    {
     "data": {
      "image/png": "[encoded data removed]",
      "text/plain": [
       "<Figure size 432x360 with 1 Axes>"
      ]
     },
     "metadata": {
      "needs_background": "light"
     },
     "output_type": "display_data"
    }
   ],
   "source": [
    "plt.figure(figsize=(6,5))\n",
    "sns.countplot(df.Driving_License)\n",
    "plt.xlabel(\"Driving License\")\n",
    "plt.ylabel(\"Frequencies\")\n",
    "plt.show()"
   ]
  },
  {
   "cell_type": "code",
   "execution_count": 34,
   "id": "bcd3a54b",
   "metadata": {},
   "outputs": [
    {
     "data": {
      "text/plain": [
       "1    381431\n",
       "0       723\n",
       "Name: Driving_License, dtype: int64"
      ]
     },
     "execution_count": 34,
     "metadata": {},
     "output_type": "execute_result"
    }
   ],
   "source": [
    "df.Driving_License.value_counts()"
   ]
  },
  {
   "cell_type": "markdown",
   "id": "6db58659",
   "metadata": {},
   "source": [
    "We can observe that there are 381431 people who have Driving License and 723 people who doesn't have Driving License."
   ]
  },
  {
   "cell_type": "markdown",
   "id": "125adbab",
   "metadata": {},
   "source": [
    "### Bar Chart of Previously Insured"
   ]
  },
  {
   "cell_type": "code",
   "execution_count": 7,
   "id": "37c8eaec",
   "metadata": {},
   "outputs": [
    {
     "name": "stderr",
     "output_type": "stream",
     "text": [
      "C:\\Users\\karth\\anaconda3\\lib\\site-packages\\seaborn\\_decorators.py:36: FutureWarning: Pass the following variable as a keyword arg: x. From version 0.12, the only valid positional argument will be `data`, and passing other arguments without an explicit keyword will result in an error or misinterpretation.\n",
      "  warnings.warn(\n"
     ]
    },
    {
     "data": {
      "image/png": "[encoded data removed]",
      "text/plain": [
       "<Figure size 432x360 with 1 Axes>"
      ]
     },
     "metadata": {
      "needs_background": "light"
     },
     "output_type": "display_data"
    }
   ],
   "source": [
    "plt.figure(figsize=(6,5))\n",
    "sns.countplot(df.Previously_Insured)\n",
    "plt.xlabel(\"Previously Insured\")\n",
    "plt.ylabel(\"Frequencies\")\n",
    "plt.show()"
   ]
  },
  {
   "cell_type": "code",
   "execution_count": 36,
   "id": "2ed82507",
   "metadata": {},
   "outputs": [
    {
     "data": {
      "text/plain": [
       "0    195211\n",
       "1    186943\n",
       "Name: Previously_Insured, dtype: int64"
      ]
     },
     "execution_count": 36,
     "metadata": {},
     "output_type": "execute_result"
    }
   ],
   "source": [
    "df.Previously_Insured.value_counts()"
   ]
  },
  {
   "cell_type": "markdown",
   "id": "cb7823f7",
   "metadata": {},
   "source": [
    "We can observe that there 195211 people who doesn't have previous Insurance and 186943 people who have previous Insurance."
   ]
  },
  {
   "cell_type": "markdown",
   "id": "e3d26c00",
   "metadata": {},
   "source": [
    "### Bar Chart of Vehicle Age"
   ]
  },
  {
   "cell_type": "code",
   "execution_count": 45,
   "id": "01e33856",
   "metadata": {},
   "outputs": [
    {
     "name": "stderr",
     "output_type": "stream",
     "text": [
      "C:\\Users\\karth\\anaconda3\\lib\\site-packages\\seaborn\\_decorators.py:36: FutureWarning: Pass the following variable as a keyword arg: x. From version 0.12, the only valid positional argument will be `data`, and passing other arguments without an explicit keyword will result in an error or misinterpretation.\n",
      "  warnings.warn(\n"
     ]
    },
    {
     "data": {
      "image/png": "[encoded data removed]",
      "text/plain": [
       "<Figure size 432x360 with 1 Axes>"
      ]
     },
     "metadata": {
      "needs_background": "light"
     },
     "output_type": "display_data"
    }
   ],
   "source": [
    "plt.figure(figsize=(6,5))\n",
    "sns.countplot(df.Vehicle_Age)\n",
    "plt.xlabel(\"Vehicle Age\")\n",
    "plt.ylabel(\"Frequencies\")\n",
    "plt.show()"
   ]
  },
  {
   "cell_type": "code",
   "execution_count": 40,
   "id": "86769325",
   "metadata": {},
   "outputs": [
    {
     "data": {
      "text/plain": [
       "1-2 Year     200176\n",
       "< 1 Year     166353\n",
       "> 2 Years     15625\n",
       "Name: Vehicle_Age, dtype: int64"
      ]
     },
     "execution_count": 40,
     "metadata": {},
     "output_type": "execute_result"
    }
   ],
   "source": [
    "df.Vehicle_Age.value_counts()"
   ]
  },
  {
   "cell_type": "markdown",
   "id": "24453d2c",
   "metadata": {},
   "source": [
    "We can observe that there are 200176 of Vehicles that have age of 1-2 Year inbetween and 166353 of vehicles that have age of have age of less than 1 year and 15625 of vehicles that have age of greater than 2 years. "
   ]
  },
  {
   "cell_type": "markdown",
   "id": "bbf8b81d",
   "metadata": {},
   "source": [
    "### Barchart of Vehicle Damage"
   ]
  },
  {
   "cell_type": "code",
   "execution_count": 44,
   "id": "d6766fdc",
   "metadata": {},
   "outputs": [
    {
     "name": "stderr",
     "output_type": "stream",
     "text": [
      "C:\\Users\\karth\\anaconda3\\lib\\site-packages\\seaborn\\_decorators.py:36: FutureWarning: Pass the following variable as a keyword arg: x. From version 0.12, the only valid positional argument will be `data`, and passing other arguments without an explicit keyword will result in an error or misinterpretation.\n",
      "  warnings.warn(\n"
     ]
    },
    {
     "data": {
      "image/png": "[encoded data removed]",
      "text/plain": [
       "<Figure size 432x360 with 1 Axes>"
      ]
     },
     "metadata": {
      "needs_background": "light"
     },
     "output_type": "display_data"
    }
   ],
   "source": [
    "plt.figure(figsize=(6,5))\n",
    "sns.countplot(df.Vehicle_Damage)\n",
    "plt.xlabel(\"Vehicle Damage\")\n",
    "plt.ylabel(\"Frequencies\")\n",
    "plt.show()"
   ]
  },
  {
   "cell_type": "code",
   "execution_count": 43,
   "id": "3683ba43",
   "metadata": {},
   "outputs": [
    {
     "data": {
      "text/plain": [
       "No     198501\n",
       "Yes    183653\n",
       "Name: Vehicle_Damage, dtype: int64"
      ]
     },
     "execution_count": 43,
     "metadata": {},
     "output_type": "execute_result"
    }
   ],
   "source": [
    "df.Vehicle_Damage.value_counts()"
   ]
  },
  {
   "cell_type": "markdown",
   "id": "26dba360",
   "metadata": {},
   "source": [
    "We can observe that there are 198501 Vehicle which are not damaged and 183653 vechicle which are damaged."
   ]
  },
  {
   "cell_type": "markdown",
   "id": "754683d0",
   "metadata": {},
   "source": [
    "## Histrogram of Annual_Premium"
   ]
  },
  {
   "cell_type": "code",
   "execution_count": 11,
   "id": "139539be",
   "metadata": {},
   "outputs": [
    {
     "data": {
      "image/png": "[encoded data removed]",
      "text/plain": [
       "<Figure size 432x360 with 1 Axes>"
      ]
     },
     "metadata": {
      "needs_background": "light"
     },
     "output_type": "display_data"
    }
   ],
   "source": [
    "plt.figure(figsize=(6,5))\n",
    "plt.hist(df.Annual_Premium,bins=50)\n",
    "plt.xlabel(\"Annual Premium\")\n",
    "plt.ylabel(\"Frequencies\")\n",
    "plt.show()"
   ]
  },
  {
   "cell_type": "markdown",
   "id": "2df25480",
   "metadata": {},
   "source": [
    "### Barchart of Response"
   ]
  },
  {
   "cell_type": "code",
   "execution_count": 12,
   "id": "c8a6cfc7",
   "metadata": {},
   "outputs": [
    {
     "name": "stderr",
     "output_type": "stream",
     "text": [
      "C:\\Users\\karth\\anaconda3\\lib\\site-packages\\seaborn\\_decorators.py:36: FutureWarning: Pass the following variable as a keyword arg: x. From version 0.12, the only valid positional argument will be `data`, and passing other arguments without an explicit keyword will result in an error or misinterpretation.\n",
      "  warnings.warn(\n"
     ]
    },
    {
     "data": {
      "image/png": "[encoded data removed]",
      "text/plain": [
       "<Figure size 432x360 with 1 Axes>"
      ]
     },
     "metadata": {
      "needs_background": "light"
     },
     "output_type": "display_data"
    }
   ],
   "source": [
    "plt.figure(figsize=(6,5))\n",
    "sns.countplot(df.Response)\n",
    "plt.xlabel(\"Vehicle Damage\")\n",
    "plt.ylabel(\"Frequencies\")\n",
    "plt.show()"
   ]
  },
  {
   "cell_type": "code",
   "execution_count": 13,
   "id": "04af9158",
   "metadata": {},
   "outputs": [
    {
     "data": {
      "text/plain": [
       "0    319553\n",
       "1     62601\n",
       "Name: Response, dtype: int64"
      ]
     },
     "execution_count": 13,
     "metadata": {},
     "output_type": "execute_result"
    }
   ],
   "source": [
    "df.Response.value_counts()"
   ]
  },
  {
   "cell_type": "markdown",
   "id": "2d0c795d",
   "metadata": {},
   "source": [
    "**We can observe that target is highly imbalance. so we have to handle the imbalance of dataset.**"
   ]
  },
  {
   "cell_type": "markdown",
   "id": "81eaf19f",
   "metadata": {},
   "source": [
    "# Data preparation"
   ]
  },
  {
   "cell_type": "code",
   "execution_count": 4,
   "id": "32232c14",
   "metadata": {},
   "outputs": [
    {
     "data": {
      "text/html": [
       "<div>\n",
       "<style scoped>\n",
       "    .dataframe tbody tr th:only-of-type {\n",
       "        vertical-align: middle;\n",
       "    }\n",
       "\n",
       "    .dataframe tbody tr th {\n",
       "        vertical-align: top;\n",
       "    }\n",
       "\n",
       "    .dataframe thead th {\n",
       "        text-align: right;\n",
       "    }\n",
       "</style>\n",
       "<table border=\"1\" class=\"dataframe\">\n",
       "  <thead>\n",
       "    <tr style=\"text-align: right;\">\n",
       "      <th></th>\n",
       "      <th>id</th>\n",
       "      <th>Gender</th>\n",
       "      <th>Age</th>\n",
       "      <th>Driving_License</th>\n",
       "      <th>Region_Code</th>\n",
       "      <th>Previously_Insured</th>\n",
       "      <th>Vehicle_Age</th>\n",
       "      <th>Vehicle_Damage</th>\n",
       "      <th>Annual_Premium</th>\n",
       "      <th>Policy_Sales_Channel</th>\n",
       "      <th>Vintage</th>\n",
       "    </tr>\n",
       "  </thead>\n",
       "  <tbody>\n",
       "    <tr>\n",
       "      <th>0</th>\n",
       "      <td>167647</td>\n",
       "      <td>Male</td>\n",
       "      <td>22</td>\n",
       "      <td>1</td>\n",
       "      <td>7</td>\n",
       "      <td>1</td>\n",
       "      <td>&lt; 1 Year</td>\n",
       "      <td>No</td>\n",
       "      <td>2630</td>\n",
       "      <td>152</td>\n",
       "      <td>16</td>\n",
       "    </tr>\n",
       "    <tr>\n",
       "      <th>1</th>\n",
       "      <td>17163</td>\n",
       "      <td>Male</td>\n",
       "      <td>42</td>\n",
       "      <td>1</td>\n",
       "      <td>28</td>\n",
       "      <td>0</td>\n",
       "      <td>1-2 Year</td>\n",
       "      <td>Yes</td>\n",
       "      <td>43327</td>\n",
       "      <td>26</td>\n",
       "      <td>135</td>\n",
       "    </tr>\n",
       "  </tbody>\n",
       "</table>\n",
       "</div>"
      ],
      "text/plain": [
       "       id Gender  Age  Driving_License  Region_Code  Previously_Insured  \\\n",
       "0  167647   Male   22                1            7                   1   \n",
       "1   17163   Male   42                1           28                   0   \n",
       "\n",
       "  Vehicle_Age Vehicle_Damage  Annual_Premium  Policy_Sales_Channel  Vintage  \n",
       "0    < 1 Year             No            2630                   152       16  \n",
       "1    1-2 Year            Yes           43327                    26      135  "
      ]
     },
     "execution_count": 4,
     "metadata": {},
     "output_type": "execute_result"
    }
   ],
   "source": [
    "x = df.drop('Response',axis=1)\n",
    "x.head(2)"
   ]
  },
  {
   "cell_type": "markdown",
   "id": "ac4e01ae",
   "metadata": {},
   "source": [
    "Here we can observe that there are some categorial feature. firstly I have to convert them into Numerical features. "
   ]
  },
  {
   "cell_type": "code",
   "execution_count": 5,
   "id": "339becf5",
   "metadata": {},
   "outputs": [],
   "source": [
    "x = pd.get_dummies(x,['Gender','Vehicle_Age','Vehicle_Damage'])"
   ]
  },
  {
   "cell_type": "code",
   "execution_count": 6,
   "id": "84df99aa",
   "metadata": {},
   "outputs": [
    {
     "data": {
      "text/html": [
       "<div>\n",
       "<style scoped>\n",
       "    .dataframe tbody tr th:only-of-type {\n",
       "        vertical-align: middle;\n",
       "    }\n",
       "\n",
       "    .dataframe tbody tr th {\n",
       "        vertical-align: top;\n",
       "    }\n",
       "\n",
       "    .dataframe thead th {\n",
       "        text-align: right;\n",
       "    }\n",
       "</style>\n",
       "<table border=\"1\" class=\"dataframe\">\n",
       "  <thead>\n",
       "    <tr style=\"text-align: right;\">\n",
       "      <th></th>\n",
       "      <th>id</th>\n",
       "      <th>Age</th>\n",
       "      <th>Driving_License</th>\n",
       "      <th>Region_Code</th>\n",
       "      <th>Previously_Insured</th>\n",
       "      <th>Annual_Premium</th>\n",
       "      <th>Policy_Sales_Channel</th>\n",
       "      <th>Vintage</th>\n",
       "      <th>Gender_Female</th>\n",
       "      <th>Gender_Male</th>\n",
       "      <th>Vehicle_Age_1-2 Year</th>\n",
       "      <th>Vehicle_Age_&lt; 1 Year</th>\n",
       "      <th>Vehicle_Age_&gt; 2 Years</th>\n",
       "      <th>Vehicle_Damage_No</th>\n",
       "      <th>Vehicle_Damage_Yes</th>\n",
       "    </tr>\n",
       "  </thead>\n",
       "  <tbody>\n",
       "    <tr>\n",
       "      <th>0</th>\n",
       "      <td>167647</td>\n",
       "      <td>22</td>\n",
       "      <td>1</td>\n",
       "      <td>7</td>\n",
       "      <td>1</td>\n",
       "      <td>2630</td>\n",
       "      <td>152</td>\n",
       "      <td>16</td>\n",
       "      <td>0</td>\n",
       "      <td>1</td>\n",
       "      <td>0</td>\n",
       "      <td>1</td>\n",
       "      <td>0</td>\n",
       "      <td>1</td>\n",
       "      <td>0</td>\n",
       "    </tr>\n",
       "    <tr>\n",
       "      <th>1</th>\n",
       "      <td>17163</td>\n",
       "      <td>42</td>\n",
       "      <td>1</td>\n",
       "      <td>28</td>\n",
       "      <td>0</td>\n",
       "      <td>43327</td>\n",
       "      <td>26</td>\n",
       "      <td>135</td>\n",
       "      <td>0</td>\n",
       "      <td>1</td>\n",
       "      <td>1</td>\n",
       "      <td>0</td>\n",
       "      <td>0</td>\n",
       "      <td>0</td>\n",
       "      <td>1</td>\n",
       "    </tr>\n",
       "    <tr>\n",
       "      <th>2</th>\n",
       "      <td>32023</td>\n",
       "      <td>66</td>\n",
       "      <td>1</td>\n",
       "      <td>33</td>\n",
       "      <td>0</td>\n",
       "      <td>35841</td>\n",
       "      <td>124</td>\n",
       "      <td>253</td>\n",
       "      <td>1</td>\n",
       "      <td>0</td>\n",
       "      <td>1</td>\n",
       "      <td>0</td>\n",
       "      <td>0</td>\n",
       "      <td>0</td>\n",
       "      <td>1</td>\n",
       "    </tr>\n",
       "    <tr>\n",
       "      <th>3</th>\n",
       "      <td>87447</td>\n",
       "      <td>22</td>\n",
       "      <td>1</td>\n",
       "      <td>33</td>\n",
       "      <td>0</td>\n",
       "      <td>27645</td>\n",
       "      <td>152</td>\n",
       "      <td>69</td>\n",
       "      <td>1</td>\n",
       "      <td>0</td>\n",
       "      <td>0</td>\n",
       "      <td>1</td>\n",
       "      <td>0</td>\n",
       "      <td>1</td>\n",
       "      <td>0</td>\n",
       "    </tr>\n",
       "    <tr>\n",
       "      <th>4</th>\n",
       "      <td>501933</td>\n",
       "      <td>28</td>\n",
       "      <td>1</td>\n",
       "      <td>46</td>\n",
       "      <td>1</td>\n",
       "      <td>29023</td>\n",
       "      <td>152</td>\n",
       "      <td>211</td>\n",
       "      <td>0</td>\n",
       "      <td>1</td>\n",
       "      <td>0</td>\n",
       "      <td>1</td>\n",
       "      <td>0</td>\n",
       "      <td>1</td>\n",
       "      <td>0</td>\n",
       "    </tr>\n",
       "  </tbody>\n",
       "</table>\n",
       "</div>"
      ],
      "text/plain": [
       "       id  Age  Driving_License  Region_Code  Previously_Insured  \\\n",
       "0  167647   22                1            7                   1   \n",
       "1   17163   42                1           28                   0   \n",
       "2   32023   66                1           33                   0   \n",
       "3   87447   22                1           33                   0   \n",
       "4  501933   28                1           46                   1   \n",
       "\n",
       "   Annual_Premium  Policy_Sales_Channel  Vintage  Gender_Female  Gender_Male  \\\n",
       "0            2630                   152       16              0            1   \n",
       "1           43327                    26      135              0            1   \n",
       "2           35841                   124      253              1            0   \n",
       "3           27645                   152       69              1            0   \n",
       "4           29023                   152      211              0            1   \n",
       "\n",
       "   Vehicle_Age_1-2 Year  Vehicle_Age_< 1 Year  Vehicle_Age_> 2 Years  \\\n",
       "0                     0                     1                      0   \n",
       "1                     1                     0                      0   \n",
       "2                     1                     0                      0   \n",
       "3                     0                     1                      0   \n",
       "4                     0                     1                      0   \n",
       "\n",
       "   Vehicle_Damage_No  Vehicle_Damage_Yes  \n",
       "0                  1                   0  \n",
       "1                  0                   1  \n",
       "2                  0                   1  \n",
       "3                  1                   0  \n",
       "4                  1                   0  "
      ]
     },
     "execution_count": 6,
     "metadata": {},
     "output_type": "execute_result"
    }
   ],
   "source": [
    "x.head()"
   ]
  },
  {
   "cell_type": "markdown",
   "id": "8d97594e",
   "metadata": {},
   "source": [
    "We have succefully converted all feature into numerical features."
   ]
  },
  {
   "cell_type": "code",
   "execution_count": 7,
   "id": "5f98dd85",
   "metadata": {},
   "outputs": [
    {
     "data": {
      "text/plain": [
       "0    0\n",
       "1    0\n",
       "2    0\n",
       "3    0\n",
       "4    0\n",
       "Name: Response, dtype: int64"
      ]
     },
     "execution_count": 7,
     "metadata": {},
     "output_type": "execute_result"
    }
   ],
   "source": [
    "y = df.Response\n",
    "y.head()"
   ]
  },
  {
   "cell_type": "markdown",
   "id": "c0cba077",
   "metadata": {},
   "source": [
    "# Splitting the data"
   ]
  },
  {
   "cell_type": "code",
   "execution_count": 8,
   "id": "455dad3b",
   "metadata": {},
   "outputs": [
    {
     "name": "stdout",
     "output_type": "stream",
     "text": [
      "Training set : (267507, 15) (267507,)\n",
      "Testing set : (114647, 15) (114647,)\n"
     ]
    }
   ],
   "source": [
    "x_train, x_test, y_train, y_test = train_test_split(x,y,test_size=0.3,random_state=1)\n",
    "print(\"Training set :\",x_train.shape, y_train.shape)\n",
    "print(\"Testing set :\",x_test.shape,y_test.shape)"
   ]
  },
  {
   "cell_type": "markdown",
   "id": "80894569",
   "metadata": {},
   "source": [
    "# Training the model with Imbalance dataset"
   ]
  },
  {
   "cell_type": "code",
   "execution_count": 9,
   "id": "d22d1c46",
   "metadata": {},
   "outputs": [],
   "source": [
    "#instantiation of model\n",
    "log_model_imbalanced = LogisticRegression()\n",
    "\n",
    "#training the model\n",
    "log_model_imbalanced.fit(x_train,y_train)\n",
    "\n",
    "#predictions\n",
    "pred_imb = log_model_imbalanced.predict(x_test)"
   ]
  },
  {
   "cell_type": "code",
   "execution_count": 10,
   "id": "83fa8b46",
   "metadata": {},
   "outputs": [
    {
     "data": {
      "text/plain": [
       "0.8339075597268136"
      ]
     },
     "execution_count": 10,
     "metadata": {},
     "output_type": "execute_result"
    }
   ],
   "source": [
    "accuracy_score(y_test,pred_imb)"
   ]
  },
  {
   "cell_type": "markdown",
   "id": "155d8f7d",
   "metadata": {},
   "source": [
    "**Accuracy is not a good metric when our dataset is imbalanced.**"
   ]
  },
  {
   "cell_type": "code",
   "execution_count": 27,
   "id": "36ded888",
   "metadata": {},
   "outputs": [
    {
     "name": "stdout",
     "output_type": "stream",
     "text": [
      "              precision    recall  f1-score   support\n",
      "\n",
      "           0       0.84      0.99      0.91     95953\n",
      "           1       0.38      0.03      0.05     18694\n",
      "\n",
      "    accuracy                           0.83    114647\n",
      "   macro avg       0.61      0.51      0.48    114647\n",
      "weighted avg       0.76      0.83      0.77    114647\n",
      "\n"
     ]
    }
   ],
   "source": [
    "print(classification_report(y_test,pred_imb))"
   ]
  },
  {
   "cell_type": "markdown",
   "id": "af433ffc",
   "metadata": {},
   "source": [
    "**We can observe that class 1 has minority class. It proves that the model is more biased towards the majority class. that why it has low precision and recall, obviously F1-score will be penalized. So we have to hand the Imbalance dataset.**"
   ]
  },
  {
   "cell_type": "markdown",
   "id": "127fdcfa",
   "metadata": {},
   "source": [
    "# Handling Imbalance dataset"
   ]
  },
  {
   "cell_type": "markdown",
   "id": "b5bcd110",
   "metadata": {},
   "source": [
    "# 1) SMOTE (Synthetic Minority Oversampling Technique) - Oversampling"
   ]
  },
  {
   "cell_type": "code",
   "execution_count": 10,
   "id": "f49b7763",
   "metadata": {},
   "outputs": [
    {
     "name": "stdout",
     "output_type": "stream",
     "text": [
      "Before OverSampling, count of label '1': 43907\n",
      "Before OverSampling, count of label '0': 223600\n"
     ]
    }
   ],
   "source": [
    "print(\"Before OverSampling, count of label '1': {}\".format(sum(y_train == 1)))\n",
    "print(\"Before OverSampling, count of label '0': {}\".format(sum(y_train == 0)))"
   ]
  },
  {
   "cell_type": "code",
   "execution_count": 9,
   "id": "5cf40e60",
   "metadata": {},
   "outputs": [],
   "source": [
    "smote = SMOTE(random_state=2)\n",
    "x_train_sm, y_train_sm = smote.fit_resample(x_train,y_train)"
   ]
  },
  {
   "cell_type": "code",
   "execution_count": 12,
   "id": "857b6fb2",
   "metadata": {},
   "outputs": [
    {
     "name": "stdout",
     "output_type": "stream",
     "text": [
      "After OverSampling, count of label '1': 223600\n",
      "After OverSampling, count of label '0': 223600\n"
     ]
    }
   ],
   "source": [
    "print(\"After OverSampling, count of label '1': {}\".format(sum(y_train_sm == 1)))\n",
    "print(\"After OverSampling, count of label '0': {}\".format(sum(y_train_sm == 0)))"
   ]
  },
  {
   "cell_type": "code",
   "execution_count": 10,
   "id": "4d0715a2",
   "metadata": {},
   "outputs": [
    {
     "name": "stderr",
     "output_type": "stream",
     "text": [
      "C:\\Users\\karth\\anaconda3\\lib\\site-packages\\seaborn\\_decorators.py:36: FutureWarning: Pass the following variable as a keyword arg: x. From version 0.12, the only valid positional argument will be `data`, and passing other arguments without an explicit keyword will result in an error or misinterpretation.\n",
      "  warnings.warn(\n"
     ]
    },
    {
     "data": {
      "image/png": "[encoded data removed]",
      "text/plain": [
       "<Figure size 432x360 with 1 Axes>"
      ]
     },
     "metadata": {
      "needs_background": "light"
     },
     "output_type": "display_data"
    }
   ],
   "source": [
    "plt.figure(figsize=(6,5))\n",
    "sns.countplot(y_train_sm)\n",
    "plt.xlabel(\"Response\")\n",
    "plt.ylabel(\"Frequencies\")\n",
    "plt.show()"
   ]
  },
  {
   "cell_type": "markdown",
   "id": "ba670d44",
   "metadata": {},
   "source": [
    "We can observe that now our target is balanced."
   ]
  },
  {
   "cell_type": "markdown",
   "id": "bea28ce5",
   "metadata": {},
   "source": [
    "## 1.1 Model-1 (LogisticRegression)"
   ]
  },
  {
   "cell_type": "code",
   "execution_count": 15,
   "id": "cb6aaecc",
   "metadata": {},
   "outputs": [],
   "source": [
    "log_model_smote =  LogisticRegression()"
   ]
  },
  {
   "cell_type": "code",
   "execution_count": 16,
   "id": "cb75c3e7",
   "metadata": {},
   "outputs": [
    {
     "data": {
      "text/plain": [
       "LogisticRegression()"
      ]
     },
     "execution_count": 16,
     "metadata": {},
     "output_type": "execute_result"
    }
   ],
   "source": [
    "log_model_smote.fit(x_train_sm, y_train_sm)"
   ]
  },
  {
   "cell_type": "code",
   "execution_count": 17,
   "id": "a2c31dd9",
   "metadata": {},
   "outputs": [],
   "source": [
    "pred_log_smote = log_model_smote.predict(x_test)"
   ]
  },
  {
   "cell_type": "markdown",
   "id": "de9b58da",
   "metadata": {},
   "source": [
    "### Metrics for Evaluating the model"
   ]
  },
  {
   "cell_type": "code",
   "execution_count": 18,
   "id": "83114b8b",
   "metadata": {},
   "outputs": [
    {
     "data": {
      "text/plain": [
       "0.6571214248955489"
      ]
     },
     "execution_count": 18,
     "metadata": {},
     "output_type": "execute_result"
    }
   ],
   "source": [
    "accuracy_score(y_test,pred_log_smote)"
   ]
  },
  {
   "cell_type": "code",
   "execution_count": 19,
   "id": "13f17401",
   "metadata": {},
   "outputs": [
    {
     "name": "stdout",
     "output_type": "stream",
     "text": [
      "              precision    recall  f1-score   support\n",
      "\n",
      "           0       0.91      0.66      0.76     95953\n",
      "           1       0.27      0.65      0.38     18694\n",
      "\n",
      "    accuracy                           0.66    114647\n",
      "   macro avg       0.59      0.65      0.57    114647\n",
      "weighted avg       0.80      0.66      0.70    114647\n",
      "\n"
     ]
    }
   ],
   "source": [
    "print(classification_report(y_test,pred_log_smote))"
   ]
  },
  {
   "cell_type": "markdown",
   "id": "1a0c8af5",
   "metadata": {},
   "source": [
    "## 1.2 Model-2 (RandomForest)"
   ]
  },
  {
   "cell_type": "code",
   "execution_count": 50,
   "id": "68ceb464",
   "metadata": {},
   "outputs": [
    {
     "data": {
      "text/plain": [
       "RandomForestClassifier()"
      ]
     },
     "execution_count": 50,
     "metadata": {},
     "output_type": "execute_result"
    }
   ],
   "source": [
    "random_model_smote = RandomForestClassifier()\n",
    "\n",
    "#training model\n",
    "random_model_smote.fit(x_train_sm,y_train_sm)\n",
    "\n",
    "#predictions\n",
    "pred_rndf_smote = random_model_smote.predict(x_test)"
   ]
  },
  {
   "cell_type": "markdown",
   "id": "af6b040e",
   "metadata": {},
   "source": [
    "### Metrics for Evaluating the model"
   ]
  },
  {
   "cell_type": "code",
   "execution_count": 52,
   "id": "0d4f3e55",
   "metadata": {},
   "outputs": [
    {
     "data": {
      "text/plain": [
       "0.8759496541558"
      ]
     },
     "execution_count": 52,
     "metadata": {},
     "output_type": "execute_result"
    }
   ],
   "source": [
    "accuracy_score(y_test,pred_rndf_smote)"
   ]
  },
  {
   "cell_type": "code",
   "execution_count": 54,
   "id": "b98254ab",
   "metadata": {},
   "outputs": [
    {
     "name": "stdout",
     "output_type": "stream",
     "text": [
      "              precision    recall  f1-score   support\n",
      "\n",
      "           0       0.91      0.95      0.93     95953\n",
      "           1       0.65      0.52      0.58     18694\n",
      "\n",
      "    accuracy                           0.88    114647\n",
      "   macro avg       0.78      0.73      0.75    114647\n",
      "weighted avg       0.87      0.88      0.87    114647\n",
      "\n"
     ]
    }
   ],
   "source": [
    "print(classification_report(y_test,pred_rndf_smote))"
   ]
  },
  {
   "cell_type": "markdown",
   "id": "c8ad8a6c",
   "metadata": {},
   "source": [
    "## 1.3 Model-3 (GradientBoosting)"
   ]
  },
  {
   "cell_type": "code",
   "execution_count": 20,
   "id": "206962fa",
   "metadata": {},
   "outputs": [],
   "source": [
    "grad_boost_smote = GradientBoostingClassifier()\n",
    "\n",
    "#training the model\n",
    "grad_boost_smote.fit(x_train_sm,y_train_sm)\n",
    "\n",
    "#predictions\n",
    "pred_grad_boost_smote = grad_boost_smote.predict(x_test)"
   ]
  },
  {
   "cell_type": "markdown",
   "id": "ae7e81b8",
   "metadata": {},
   "source": [
    "### Metrics for Evaluating the model"
   ]
  },
  {
   "cell_type": "code",
   "execution_count": 21,
   "id": "9aadc58d",
   "metadata": {},
   "outputs": [
    {
     "data": {
      "text/plain": [
       "0.8596736068104704"
      ]
     },
     "execution_count": 21,
     "metadata": {},
     "output_type": "execute_result"
    }
   ],
   "source": [
    "accuracy_score(y_test,pred_grad_boost_smote)"
   ]
  },
  {
   "cell_type": "code",
   "execution_count": 22,
   "id": "63a1f6b2",
   "metadata": {},
   "outputs": [
    {
     "name": "stdout",
     "output_type": "stream",
     "text": [
      "              precision    recall  f1-score   support\n",
      "\n",
      "           0       0.92      0.91      0.92     95953\n",
      "           1       0.57      0.60      0.58     18694\n",
      "\n",
      "    accuracy                           0.86    114647\n",
      "   macro avg       0.74      0.76      0.75    114647\n",
      "weighted avg       0.86      0.86      0.86    114647\n",
      "\n"
     ]
    }
   ],
   "source": [
    "print(classification_report(y_test,pred_grad_boost_smote))"
   ]
  },
  {
   "cell_type": "markdown",
   "id": "c0c89314",
   "metadata": {},
   "source": [
    "## Tunning the best model : Model-3 "
   ]
  },
  {
   "cell_type": "code",
   "execution_count": 11,
   "id": "16c4a551",
   "metadata": {},
   "outputs": [],
   "source": [
    "parameters = {'learning_rate': [0.01,0.02,0.03,0.04],\n",
    "                  'subsample'    : [0.9, 0.5, 0.2, 0.1],\n",
    "                  'n_estimators' : [10],\n",
    "                  'max_depth'    : [4,6,8,10]\n",
    "                 }"
   ]
  },
  {
   "cell_type": "markdown",
   "id": "5ac5d329",
   "metadata": {},
   "source": [
    "These are the parameters of Gradient Boosting."
   ]
  },
  {
   "cell_type": "code",
   "execution_count": 13,
   "id": "96de4c64",
   "metadata": {},
   "outputs": [
    {
     "name": "stdout",
     "output_type": "stream",
     "text": [
      "Wall time: 7min 52s\n"
     ]
    },
    {
     "data": {
      "text/plain": [
       "GridSearchCV(estimator=GradientBoostingClassifier(), n_jobs=-1,\n",
       "             param_grid={'learning_rate': [0.01, 0.02, 0.03, 0.04],\n",
       "                         'max_depth': [4, 6, 8, 10], 'n_estimators': [10],\n",
       "                         'subsample': [0.9, 0.5, 0.2, 0.1]})"
      ]
     },
     "execution_count": 13,
     "metadata": {},
     "output_type": "execute_result"
    }
   ],
   "source": [
    "%%time\n",
    "gradboost_grid_smote = GridSearchCV(estimator=GradientBoostingClassifier(),param_grid=parameters,n_jobs=-1)\n",
    "\n",
    "gradboost_grid_smote.fit(x_train_sm,y_train_sm)"
   ]
  },
  {
   "cell_type": "code",
   "execution_count": 15,
   "id": "c6104b1f",
   "metadata": {},
   "outputs": [
    {
     "data": {
      "text/plain": [
       "{'learning_rate': 0.03, 'max_depth': 10, 'n_estimators': 10, 'subsample': 0.2}"
      ]
     },
     "execution_count": 15,
     "metadata": {},
     "output_type": "execute_result"
    }
   ],
   "source": [
    " gradboost_grid_smote.best_params_"
   ]
  },
  {
   "cell_type": "code",
   "execution_count": 16,
   "id": "80630ecc",
   "metadata": {},
   "outputs": [
    {
     "data": {
      "text/plain": [
       "0.8840049194991055"
      ]
     },
     "execution_count": 16,
     "metadata": {},
     "output_type": "execute_result"
    }
   ],
   "source": [
    "gradboost_grid_smote.best_score_"
   ]
  },
  {
   "cell_type": "code",
   "execution_count": 17,
   "id": "7eb5d8d5",
   "metadata": {},
   "outputs": [
    {
     "data": {
      "text/plain": [
       "GradientBoostingClassifier(learning_rate=0.03, max_depth=10, n_estimators=10,\n",
       "                           subsample=0.2)"
      ]
     },
     "execution_count": 17,
     "metadata": {},
     "output_type": "execute_result"
    }
   ],
   "source": [
    "gradboost_grid_smote.best_estimator_"
   ]
  },
  {
   "cell_type": "markdown",
   "id": "0f0b9764",
   "metadata": {},
   "source": [
    "## Train the model with Best params"
   ]
  },
  {
   "cell_type": "code",
   "execution_count": 19,
   "id": "a6aa9783",
   "metadata": {},
   "outputs": [
    {
     "data": {
      "text/plain": [
       "GradientBoostingClassifier(learning_rate=0.03, max_depth=10, n_estimators=10,\n",
       "                           subsample=0.2)"
      ]
     },
     "execution_count": 19,
     "metadata": {},
     "output_type": "execute_result"
    }
   ],
   "source": [
    "best_params_smote = GradientBoostingClassifier(learning_rate=0.03, max_depth=10, n_estimators=10,subsample=0.2)\n",
    "\n",
    "best_params_smote.fit(x_train_sm,y_train_sm)"
   ]
  },
  {
   "cell_type": "code",
   "execution_count": 20,
   "id": "101d0b5a",
   "metadata": {},
   "outputs": [],
   "source": [
    "pred_gradboost_grid_smote = best_params_smote.predict(x_test)"
   ]
  },
  {
   "cell_type": "code",
   "execution_count": 21,
   "id": "724b7d80",
   "metadata": {},
   "outputs": [
    {
     "data": {
      "text/plain": [
       "0.8723909042539273"
      ]
     },
     "execution_count": 21,
     "metadata": {},
     "output_type": "execute_result"
    }
   ],
   "source": [
    "accuracy_score(y_test,pred_gradboost_grid_smote)"
   ]
  },
  {
   "cell_type": "code",
   "execution_count": 22,
   "id": "3ab8ac3f",
   "metadata": {},
   "outputs": [
    {
     "name": "stdout",
     "output_type": "stream",
     "text": [
      "              precision    recall  f1-score   support\n",
      "\n",
      "           0       0.91      0.94      0.92     95953\n",
      "           1       0.63      0.53      0.57     18694\n",
      "\n",
      "    accuracy                           0.87    114647\n",
      "   macro avg       0.77      0.73      0.75    114647\n",
      "weighted avg       0.87      0.87      0.87    114647\n",
      "\n"
     ]
    }
   ],
   "source": [
    "print(classification_report(y_test,pred_gradboost_grid_smote))"
   ]
  },
  {
   "cell_type": "markdown",
   "id": "c6805cb8",
   "metadata": {},
   "source": [
    "# 2) NearMiss Algorithm (UnderSampling)"
   ]
  },
  {
   "cell_type": "code",
   "execution_count": 60,
   "id": "27551659",
   "metadata": {},
   "outputs": [
    {
     "name": "stdout",
     "output_type": "stream",
     "text": [
      "Before OverSampling, count of label '1': 43907\n",
      "Before OverSampling, count of label '0': 223600\n"
     ]
    }
   ],
   "source": [
    "print(\"Before OverSampling, count of label '1': {}\".format(sum(y_train == 1)))\n",
    "print(\"Before OverSampling, count of label '0': {}\".format(sum(y_train == 0)))"
   ]
  },
  {
   "cell_type": "code",
   "execution_count": 24,
   "id": "204cdc2b",
   "metadata": {},
   "outputs": [],
   "source": [
    "near_miss = NearMiss()"
   ]
  },
  {
   "cell_type": "code",
   "execution_count": 25,
   "id": "6deb35a3",
   "metadata": {},
   "outputs": [],
   "source": [
    "x_train_nm, y_train_nm = near_miss.fit_resample(x_train,y_train)"
   ]
  },
  {
   "cell_type": "code",
   "execution_count": 63,
   "id": "54c0c1e1",
   "metadata": {},
   "outputs": [
    {
     "name": "stdout",
     "output_type": "stream",
     "text": [
      "After OverSampling, count of label '1': 43907\n",
      "After OverSampling, count of label '0': 43907\n"
     ]
    }
   ],
   "source": [
    "print(\"After OverSampling, count of label '1': {}\".format(sum(y_train_nm == 1)))\n",
    "print(\"After OverSampling, count of label '0': {}\".format(sum(y_train_nm == 0)))"
   ]
  },
  {
   "cell_type": "markdown",
   "id": "8d160e6c",
   "metadata": {},
   "source": [
    "We can observe that now our dataset is balanced. we undersampled the dataset from majority class and make equal with minority class. "
   ]
  },
  {
   "cell_type": "code",
   "execution_count": 64,
   "id": "b7967f16",
   "metadata": {},
   "outputs": [
    {
     "name": "stderr",
     "output_type": "stream",
     "text": [
      "C:\\Users\\karth\\anaconda3\\lib\\site-packages\\seaborn\\_decorators.py:36: FutureWarning: Pass the following variable as a keyword arg: x. From version 0.12, the only valid positional argument will be `data`, and passing other arguments without an explicit keyword will result in an error or misinterpretation.\n",
      "  warnings.warn(\n"
     ]
    },
    {
     "data": {
      "image/png": "[encoded data removed]",
      "text/plain": [
       "<Figure size 432x360 with 1 Axes>"
      ]
     },
     "metadata": {
      "needs_background": "light"
     },
     "output_type": "display_data"
    }
   ],
   "source": [
    "plt.figure(figsize=(6,5))\n",
    "sns.countplot(y_train_nm)\n",
    "plt.xlabel(\"Response\")\n",
    "plt.ylabel(\"Frequencies\")\n",
    "plt.show()"
   ]
  },
  {
   "cell_type": "markdown",
   "id": "5b486e23",
   "metadata": {},
   "source": [
    "## 2.1 Model-1 (LogisticRegression)"
   ]
  },
  {
   "cell_type": "code",
   "execution_count": 67,
   "id": "01d02074",
   "metadata": {},
   "outputs": [
    {
     "name": "stderr",
     "output_type": "stream",
     "text": [
      "C:\\Users\\karth\\anaconda3\\lib\\site-packages\\sklearn\\linear_model\\_logistic.py:763: ConvergenceWarning: lbfgs failed to converge (status=1):\n",
      "STOP: TOTAL NO. of ITERATIONS REACHED LIMIT.\n",
      "\n",
      "Increase the number of iterations (max_iter) or scale the data as shown in:\n",
      "    https://scikit-learn.org/stable/modules/preprocessing.html\n",
      "Please also refer to the documentation for alternative solver options:\n",
      "    https://scikit-learn.org/stable/modules/linear_model.html#logistic-regression\n",
      "  n_iter_i = _check_optimize_result(\n"
     ]
    }
   ],
   "source": [
    "log_model_nm = LogisticRegression()\n",
    "\n",
    "#training the model \n",
    "log_model_nm.fit(x_train_nm,y_train_nm)\n",
    "\n",
    "#predictions \n",
    "pred_log_nearmiss = log_model_nm.predict(x_test)"
   ]
  },
  {
   "cell_type": "markdown",
   "id": "f77fc84c",
   "metadata": {},
   "source": [
    "### Metrics for Evaluating the model"
   ]
  },
  {
   "cell_type": "code",
   "execution_count": 68,
   "id": "ab62da1e",
   "metadata": {},
   "outputs": [
    {
     "data": {
      "text/plain": [
       "0.34056713215347983"
      ]
     },
     "execution_count": 68,
     "metadata": {},
     "output_type": "execute_result"
    }
   ],
   "source": [
    "accuracy_score(y_test,pred_log_nearmiss)"
   ]
  },
  {
   "cell_type": "code",
   "execution_count": 69,
   "id": "e8c82e44",
   "metadata": {},
   "outputs": [
    {
     "name": "stdout",
     "output_type": "stream",
     "text": [
      "              precision    recall  f1-score   support\n",
      "\n",
      "           0       0.87      0.25      0.39     95953\n",
      "           1       0.17      0.81      0.29     18694\n",
      "\n",
      "    accuracy                           0.34    114647\n",
      "   macro avg       0.52      0.53      0.34    114647\n",
      "weighted avg       0.76      0.34      0.37    114647\n",
      "\n"
     ]
    }
   ],
   "source": [
    "print(classification_report(y_test,pred_log_nearmiss))"
   ]
  },
  {
   "cell_type": "markdown",
   "id": "6f0acdc0",
   "metadata": {},
   "source": [
    "## 2.2 Model-2 (RandomForest)"
   ]
  },
  {
   "cell_type": "code",
   "execution_count": 72,
   "id": "4ec56c69",
   "metadata": {},
   "outputs": [],
   "source": [
    "random_model_nearmiss = RandomForestClassifier()\n",
    "\n",
    "#training the model\n",
    "random_model_nearmiss.fit(x_train_nm,y_train_nm)\n",
    "\n",
    "#predictions\n",
    "pred_random_nearmiss = random_model_nearmiss.predict(x_test)"
   ]
  },
  {
   "cell_type": "markdown",
   "id": "324886f4",
   "metadata": {},
   "source": [
    "### Metrics for Evaluating the model"
   ]
  },
  {
   "cell_type": "code",
   "execution_count": 73,
   "id": "3d4ac729",
   "metadata": {},
   "outputs": [
    {
     "data": {
      "text/plain": [
       "0.7159280225387494"
      ]
     },
     "execution_count": 73,
     "metadata": {},
     "output_type": "execute_result"
    }
   ],
   "source": [
    "accuracy_score(y_test,pred_random_nearmiss)"
   ]
  },
  {
   "cell_type": "code",
   "execution_count": 74,
   "id": "49202ec7",
   "metadata": {},
   "outputs": [
    {
     "name": "stdout",
     "output_type": "stream",
     "text": [
      "              precision    recall  f1-score   support\n",
      "\n",
      "           0       0.97      0.68      0.80     95953\n",
      "           1       0.35      0.89      0.50     18694\n",
      "\n",
      "    accuracy                           0.72    114647\n",
      "   macro avg       0.66      0.79      0.65    114647\n",
      "weighted avg       0.87      0.72      0.75    114647\n",
      "\n"
     ]
    }
   ],
   "source": [
    "print(classification_report(y_test,pred_random_nearmiss))"
   ]
  },
  {
   "cell_type": "markdown",
   "id": "d255404e",
   "metadata": {},
   "source": [
    "## 2.3 Model-3 (Gradient Boosting)"
   ]
  },
  {
   "cell_type": "code",
   "execution_count": 79,
   "id": "e6734a85",
   "metadata": {},
   "outputs": [],
   "source": [
    "grad_boost_nearmiss = GradientBoostingClassifier()\n",
    "\n",
    "#train the model\n",
    "grad_boost_nearmiss.fit(x_train_nm,y_train_nm)\n",
    "\n",
    "#predictions \n",
    "pred_grad_boost_nearmiss = grad_boost_nearmiss.predict(x_test)"
   ]
  },
  {
   "cell_type": "markdown",
   "id": "054ccfae",
   "metadata": {},
   "source": [
    "### Metrics for Evaluating the model"
   ]
  },
  {
   "cell_type": "code",
   "execution_count": 80,
   "id": "8c319dd5",
   "metadata": {},
   "outputs": [
    {
     "data": {
      "text/plain": [
       "0.7058623426692369"
      ]
     },
     "execution_count": 80,
     "metadata": {},
     "output_type": "execute_result"
    }
   ],
   "source": [
    "accuracy_score(y_test,pred_grad_boost_nearmiss)"
   ]
  },
  {
   "cell_type": "code",
   "execution_count": 81,
   "id": "3ee61a61",
   "metadata": {},
   "outputs": [
    {
     "name": "stdout",
     "output_type": "stream",
     "text": [
      "              precision    recall  f1-score   support\n",
      "\n",
      "           0       0.97      0.67      0.79     95953\n",
      "           1       0.34      0.88      0.49     18694\n",
      "\n",
      "    accuracy                           0.71    114647\n",
      "   macro avg       0.65      0.78      0.64    114647\n",
      "weighted avg       0.86      0.71      0.74    114647\n",
      "\n"
     ]
    }
   ],
   "source": [
    "print(classification_report(y_test,pred_grad_boost_nearmiss))"
   ]
  },
  {
   "cell_type": "markdown",
   "id": "63a57305",
   "metadata": {},
   "source": [
    "## Tuning the Best Model : Model-3"
   ]
  },
  {
   "cell_type": "code",
   "execution_count": 23,
   "id": "6def7aeb",
   "metadata": {},
   "outputs": [],
   "source": [
    "parameters = {'learning_rate': [0.01,0.02,0.03,0.04],\n",
    "                  'subsample'    : [0.9, 0.5, 0.2, 0.1],\n",
    "                  'n_estimators' : [10],\n",
    "                  'max_depth'    : [4,6,8,10]\n",
    "                 }"
   ]
  },
  {
   "cell_type": "code",
   "execution_count": 27,
   "id": "53ff4dda",
   "metadata": {},
   "outputs": [
    {
     "name": "stdout",
     "output_type": "stream",
     "text": [
      "Wall time: 59.2 s\n"
     ]
    },
    {
     "data": {
      "text/plain": [
       "GridSearchCV(estimator=GradientBoostingClassifier(), n_jobs=-1,\n",
       "             param_grid={'learning_rate': [0.01, 0.02, 0.03, 0.04],\n",
       "                         'max_depth': [4, 6, 8, 10], 'n_estimators': [10],\n",
       "                         'subsample': [0.9, 0.5, 0.2, 0.1]})"
      ]
     },
     "execution_count": 27,
     "metadata": {},
     "output_type": "execute_result"
    }
   ],
   "source": [
    "%%time\n",
    "gradboost_grid_nearmiss = GridSearchCV(estimator=GradientBoostingClassifier(),param_grid=parameters,n_jobs=-1)\n",
    "\n",
    "gradboost_grid_nearmiss.fit(x_train_nm,y_train_nm)"
   ]
  },
  {
   "cell_type": "code",
   "execution_count": 28,
   "id": "62a4b13e",
   "metadata": {},
   "outputs": [
    {
     "data": {
      "text/plain": [
       "GradientBoostingClassifier(learning_rate=0.03, max_depth=6, n_estimators=10,\n",
       "                           subsample=0.1)"
      ]
     },
     "execution_count": 28,
     "metadata": {},
     "output_type": "execute_result"
    }
   ],
   "source": [
    "gradboost_grid_nearmiss.best_estimator_"
   ]
  },
  {
   "cell_type": "code",
   "execution_count": 29,
   "id": "6cb6244b",
   "metadata": {},
   "outputs": [
    {
     "data": {
      "text/plain": [
       "{'learning_rate': 0.03, 'max_depth': 6, 'n_estimators': 10, 'subsample': 0.1}"
      ]
     },
     "execution_count": 29,
     "metadata": {},
     "output_type": "execute_result"
    }
   ],
   "source": [
    "gradboost_grid_nearmiss.best_params_"
   ]
  },
  {
   "cell_type": "code",
   "execution_count": 30,
   "id": "803b7931",
   "metadata": {},
   "outputs": [
    {
     "data": {
      "text/plain": [
       "0.9153086943197243"
      ]
     },
     "execution_count": 30,
     "metadata": {},
     "output_type": "execute_result"
    }
   ],
   "source": [
    "gradboost_grid_nearmiss.best_score_"
   ]
  },
  {
   "cell_type": "code",
   "execution_count": 34,
   "id": "f883921c",
   "metadata": {},
   "outputs": [],
   "source": [
    "best_params_grad_nearmiss = gradboost_grid_nearmiss.predict(x_test)"
   ]
  },
  {
   "cell_type": "code",
   "execution_count": 36,
   "id": "aad6e19e",
   "metadata": {},
   "outputs": [
    {
     "data": {
      "text/plain": [
       "0.7172625537519517"
      ]
     },
     "execution_count": 36,
     "metadata": {},
     "output_type": "execute_result"
    }
   ],
   "source": [
    "accuracy_score(y_test, best_params_grad_nearmiss)"
   ]
  },
  {
   "cell_type": "code",
   "execution_count": 37,
   "id": "51bede8e",
   "metadata": {},
   "outputs": [
    {
     "name": "stdout",
     "output_type": "stream",
     "text": [
      "              precision    recall  f1-score   support\n",
      "\n",
      "           0       0.97      0.69      0.80     95953\n",
      "           1       0.35      0.88      0.50     18694\n",
      "\n",
      "    accuracy                           0.72    114647\n",
      "   macro avg       0.66      0.78      0.65    114647\n",
      "weighted avg       0.87      0.72      0.75    114647\n",
      "\n"
     ]
    }
   ],
   "source": [
    "print(classification_report(y_test,best_params_grad_nearmiss))"
   ]
  }
 ],
 "metadata": {
  "kernelspec": {
   "display_name": "Python 3",
   "language": "python",
   "name": "python3"
  },
  "language_info": {
   "codemirror_mode": {
    "name": "ipython",
    "version": 3
   },
   "file_extension": ".py",
   "mimetype": "text/x-python",
   "name": "python",
   "nbconvert_exporter": "python",
   "pygments_lexer": "ipython3",
   "version": "3.8.3"
  }
 },
 "nbformat": 4,
 "nbformat_minor": 5
}
